{
 "cells": [
  {
   "cell_type": "markdown",
   "id": "2aade281-1e0d-4dc7-be52-09c554c7483b",
   "metadata": {},
   "source": [
    "<h1 style=\"font-size: 40px; color: Gold\">Breast Cancer Detection Using Ultrasound _BUSI_</h1>"
   ]
  },
  {
   "cell_type": "markdown",
   "id": "6226c828-f6e2-4945-a70d-bc9fbe50212c",
   "metadata": {},
   "source": [
    "<h1 style=\"font-size: 30px; color: green;\"> Imports </h1>"
   ]
  },
  {
   "cell_type": "code",
   "execution_count": 16,
   "id": "d2b34c9c-7d94-492e-9691-5b4acff60a52",
   "metadata": {},
   "outputs": [],
   "source": [
    "import os\n",
    "import shutil\n",
    "import random\n",
    "import cv2 \n",
    "import numpy as np\n",
    "from matplotlib import pyplot as plt"
   ]
  },
  {
   "cell_type": "markdown",
   "id": "ce5efe20-8f6c-480b-9384-03ecd3b71e86",
   "metadata": {},
   "source": [
    "<h1 style=\"font-size: 30px; color: lightseagreen;\">Annotated your masked data</h1>"
   ]
  },
  {
   "cell_type": "markdown",
   "id": "b3bf2525-9279-46c6-bfae-13344e4fee9e",
   "metadata": {},
   "source": [
    "<h1 style=\"font-size:20px\">Funtion to annotate the data</h1>"
   ]
  },
  {
   "cell_type": "code",
   "execution_count": 18,
   "id": "46b81ca4-aff6-465b-b482-baaa85527d80",
   "metadata": {},
   "outputs": [],
   "source": [
    "def convert_mask_to_yolo(mask_path, class_id, img_width, img_height, output_txt):\n",
    "    # Ensure the directory for the output file exists\n",
    "    os.makedirs(os.path.dirname(output_txt), exist_ok=True)\n",
    "\n",
    "    # Read the mask\n",
    "    mask = cv2.imread(mask_path, cv2.IMREAD_GRAYSCALE)\n",
    "    \n",
    "    if mask is None:\n",
    "        raise FileNotFoundError(f\"Mask image not found: {mask_path}\")\n",
    "\n",
    "    # Find contours in the mask\n",
    "    contours, _ = cv2.findContours(mask, cv2.RETR_EXTERNAL, cv2.CHAIN_APPROX_SIMPLE)\n",
    "\n",
    "    with open(output_txt, 'w') as file:\n",
    "        # For each contour (each object)\n",
    "        for contour in contours:\n",
    "            # Get the bounding box for the contour\n",
    "            x, y, w, h = cv2.boundingRect(contour)\n",
    "            \n",
    "            # Convert to YOLO format\n",
    "            x_center = (x + w / 2) / img_width\n",
    "            y_center = (y + h / 2) / img_height\n",
    "            width = w / img_width\n",
    "            height = h / img_height\n",
    "\n",
    "            # Write the class_id and bounding box to the output file\n",
    "            file.write(f\"{class_id} {x_center} {y_center} {width} {height}\\n\")\n",
    "    \n",
    "    return mask"
   ]
  },
  {
   "cell_type": "markdown",
   "id": "901c9dad-182a-4bd2-bb5d-5c717786dd5a",
   "metadata": {},
   "source": [
    "<h1 style=\"font-size:20px\">Create Labels for each directory </h1>"
   ]
  },
  {
   "cell_type": "code",
   "execution_count": 34,
   "id": "e65e0812-8a70-4c9e-8005-652ddb1451b1",
   "metadata": {},
   "outputs": [],
   "source": [
    "# Define paths and classes\n",
    "base_path = \"dataset\"\n",
    "classes = [\"benign\", \"malignant\", \"normal\"]\n",
    "class_ids = { \"benign\": 0, \"malignant\": 1, \"normal\": 2 }\n",
    "image_width = 1280  # Replace with the actual width of your images\n",
    "image_height = 720   # Replace with the actual height of your images\n",
    "\n",
    "# Iterate through each class and convert masks\n",
    "for class_name in classes:\n",
    "    # Define the path for masked images and the output labels\n",
    "    mask_dir = os.path.join(base_path, class_name, \"masked\")\n",
    "    output_label_dir = os.path.join(base_path, class_name, \"labels\")\n",
    "\n",
    "    # Iterate through each mask image in the masked directory\n",
    "    for mask_file in os.listdir(mask_dir):\n",
    "        if mask_file.endswith(\".png\") or mask_file.endswith(\".jpg\"):  # Adjust based on your file formats\n",
    "            mask_image_path = os.path.join(mask_dir, mask_file)\n",
    "            \n",
    "            # Change the output label path to match the mask file naming convention\n",
    "            output_label_name = mask_file.replace(\"_mask.png\", \"\").replace(\"_mask.jpg\", \"\").replace(\".png\", \"\").replace(\".jpg\", \"\")\n",
    "            output_label_path = os.path.join(output_label_dir, f\"{output_label_name}.txt\")\n",
    "            \n",
    "            # Convert mask and get the mask image for displaying\n",
    "            mask_image = convert_mask_to_yolo(mask_image_path, class_ids[class_name], image_width, image_height, output_label_path)\n",
    "\n",
    "           \n"
   ]
  },
  {
   "cell_type": "markdown",
   "id": "04cc306d-62ff-4fb2-a160-31b82c5f8149",
   "metadata": {},
   "source": [
    "<h1 style=\"color: limegreen; font-size:30px;\">Pre-Processing on dataset - <span style=\"color: lightgreen;\">Split the dataset into train test and val</span></h1>"
   ]
  },
  {
   "cell_type": "code",
   "execution_count": 41,
   "id": "79c148b5-6702-477d-851f-3f9e42c4254d",
   "metadata": {},
   "outputs": [
    {
     "name": "stdout",
     "output_type": "stream",
     "text": [
      "Dataset split completed!\n"
     ]
    }
   ],
   "source": [
    "import os\n",
    "import shutil\n",
    "import random\n",
    "\n",
    "def create_dataset_split(base_path):\n",
    "    # Define paths for each category\n",
    "    categories = ['benign', 'malignant', 'normal']\n",
    "    dataset_split = {\n",
    "        'train': {\n",
    "            'images': os.path.join(base_path, 'train', 'images'),\n",
    "            'labels': os.path.join(base_path, 'train', 'labels')\n",
    "        },\n",
    "        'test': {\n",
    "            'images': os.path.join(base_path, 'test', 'images'),\n",
    "            'labels': os.path.join(base_path, 'test', 'labels')\n",
    "        },\n",
    "        'val': {\n",
    "            'images': os.path.join(base_path, 'val', 'images'),\n",
    "            'labels': os.path.join(base_path, 'val', 'labels')\n",
    "        }\n",
    "    }\n",
    "\n",
    "    # Create directories for train, test, and val splits\n",
    "    for split in dataset_split.values():\n",
    "        os.makedirs(split['images'], exist_ok=True)\n",
    "        os.makedirs(split['labels'], exist_ok=True)\n",
    "\n",
    "    # Process each category\n",
    "    for category in categories:\n",
    "        category_path = os.path.join(base_path, category)\n",
    "\n",
    "        # Collect image and label file paths\n",
    "        images = []\n",
    "        labels = []\n",
    "\n",
    "        # Get images\n",
    "        image_dir = os.path.join(category_path, category)\n",
    "        label_dir = os.path.join(category_path, 'labels')\n",
    "        \n",
    "        images.extend([os.path.join(image_dir, f) for f in os.listdir(image_dir) if f.endswith(('.png', '.jpg', '.jpeg'))])\n",
    "        labels.extend([os.path.join(label_dir, f) for f in os.listdir(label_dir) if f.endswith('.txt')])\n",
    "        \n",
    "        # Shuffle the files\n",
    "        combined = list(zip(images, labels))\n",
    "        random.shuffle(combined)\n",
    "        images, labels = zip(*combined)\n",
    "\n",
    "        # Calculate split indices\n",
    "        total = len(images)\n",
    "        train_end = int(total * 0.7)\n",
    "        test_end = train_end + int(total * 0.2)\n",
    "\n",
    "        # Move files to corresponding directories\n",
    "        for i in range(total):\n",
    "            if i < train_end:\n",
    "                # Move to train\n",
    "                shutil.copy(images[i], dataset_split['train']['images'])\n",
    "                shutil.copy(labels[i], dataset_split['train']['labels'])\n",
    "            elif i < test_end:\n",
    "                # Move to test\n",
    "                shutil.copy(images[i], dataset_split['test']['images'])\n",
    "                shutil.copy(labels[i], dataset_split['test']['labels'])\n",
    "            else:\n",
    "                # Move to val\n",
    "                shutil.copy(images[i], dataset_split['val']['images'])\n",
    "                shutil.copy(labels[i], dataset_split['val']['labels'])\n",
    "\n",
    "# Define your base path\n",
    "base_path = './dataset'  # Update this to your path\n",
    "\n",
    "# Call the function to split the dataset\n",
    "create_dataset_split(base_path)\n",
    "\n",
    "print(\"Dataset split completed!\")\n"
   ]
  },
  {
   "cell_type": "markdown",
   "id": "5b0b092c-d4bd-4f01-9c0c-08d0edb0d50d",
   "metadata": {},
   "source": [
    "<h1 style=\"color: lightblue; font-size:24px;\">Delete the Extra folders</h1>"
   ]
  },
  {
   "cell_type": "code",
   "execution_count": 44,
   "id": "41f70eeb-b5fd-475b-81a2-2ebba3e82307",
   "metadata": {},
   "outputs": [
    {
     "name": "stdout",
     "output_type": "stream",
     "text": [
      "Deleted directory: ./dataset\\benign\n",
      "Deleted directory: ./dataset\\malignant\n",
      "Deleted directory: ./dataset\\normal\n",
      "Specified directories have been deleted.\n"
     ]
    }
   ],
   "source": [
    "def delete_classes(base_path):\n",
    "    # Define the class directories to be deleted\n",
    "    classes_to_delete = ['benign', 'malignant', 'normal']\n",
    "\n",
    "    # Loop through each class and delete the directory\n",
    "    for class_name in classes_to_delete:\n",
    "        class_dir = os.path.join(base_path, class_name)\n",
    "        \n",
    "        # Check if the directory exists\n",
    "        if os.path.exists(class_dir):\n",
    "            shutil.rmtree(class_dir)  # Remove the directory and its contents\n",
    "            print(f\"Deleted directory: {class_dir}\")\n",
    "        else:\n",
    "            print(f\"Directory not found: {class_dir}\")\n",
    "\n",
    "# Define your base path\n",
    "base_path = './dataset'  # Update this to your path\n",
    "\n",
    "# Call the function to delete the class directories\n",
    "delete_classes(base_path)\n",
    "\n",
    "print(\"Specified directories have been deleted.\")\n"
   ]
  },
  {
   "cell_type": "markdown",
   "id": "8152fcee-e7e9-4137-9b27-705a5f0443e2",
   "metadata": {},
   "source": [
    "<h1 style=\"color: PaleGoldenRod; font-size:24px;\">Normalizing Dataset</h1>"
   ]
  },
  {
   "cell_type": "code",
   "execution_count": 48,
   "id": "248cbd41-064a-441d-8cba-7865379366d0",
   "metadata": {},
   "outputs": [
    {
     "name": "stdout",
     "output_type": "stream",
     "text": [
      "Normalized and saved\n"
     ]
    }
   ],
   "source": [
    "import os\n",
    "import cv2\n",
    "import numpy as np\n",
    "\n",
    "def normalize_images(dataset_path):\n",
    "    # Loop through the train, val, and test directories\n",
    "    for split in ['train', 'val', 'test']:\n",
    "        split_path = os.path.join(dataset_path, split, 'images')  # Path to images\n",
    "\n",
    "        # Check if the images directory exists\n",
    "        if os.path.exists(split_path):\n",
    "            for filename in os.listdir(split_path):\n",
    "                if filename.endswith(('.png', '.jpg', '.jpeg')):\n",
    "                    img_path = os.path.join(split_path, filename)\n",
    "                    \n",
    "                    # Load the image\n",
    "                    img = cv2.imread(img_path)\n",
    "                    \n",
    "                    if img is not None:\n",
    "                        # Normalize the image to [0, 1]\n",
    "                        normalized_img = img / 255.0\n",
    "                        \n",
    "                        # Optionally, you can also normalize to [-1, 1]\n",
    "                        # normalized_img = (img / 127.5) - 1\n",
    "\n",
    "                        # Save the normalized image (you may choose to overwrite or save to a new directory)\n",
    "                        cv2.imwrite(img_path, (normalized_img * 255).astype(np.uint8))\n",
    "                        # print(f\"Normalized and saved: {img_path}\")\n",
    "                    else:\n",
    "                        print(f\"Error loading image: {img_path}\")\n",
    "        else:\n",
    "            print(f\"Directory does not exist: {split_path}\")\n",
    "\n",
    "# Define your dataset path\n",
    "dataset_path = './dataset'  # Update this to your path\n",
    "\n",
    "# Call the normalization function\n",
    "normalize_images(dataset_path)\n",
    "print(f\"Normalized and saved\")\n"
   ]
  },
  {
   "cell_type": "markdown",
   "id": "a93385ee-18e7-4be5-adf9-593539e1ab50",
   "metadata": {},
   "source": [
    "<h1 style=\"color: red; font-size:45px;\">Implementation of YOLO V8 model</h1>"
   ]
  },
  {
   "cell_type": "markdown",
   "id": "85ebf14a-1841-4eb1-8d37-4aa9e1c62e55",
   "metadata": {},
   "source": [
    "<h1 style=\"color: PaleGoldenRod; font-size:24px;\">IMPORT YOLO MODEL</h1>"
   ]
  },
  {
   "cell_type": "code",
   "execution_count": 20,
   "id": "d6560e02-bc1d-4f97-accd-cb8ac951db2e",
   "metadata": {},
   "outputs": [
    {
     "name": "stdout",
     "output_type": "stream",
     "text": [
      "New https://pypi.org/project/ultralytics/8.3.4 available  Update with 'pip install -U ultralytics'\n",
      "Ultralytics YOLOv8.2.99  Python-3.12.1 torch-2.4.1+cpu CPU (12th Gen Intel Core(TM) i5-12500H)\n",
      "\u001b[34m\u001b[1mengine\\trainer: \u001b[0mtask=detect, mode=train, model=yolov8n.pt, data=dataset.yaml, epochs=1, time=None, patience=100, batch=16, imgsz=640, save=True, save_period=-1, cache=False, device=None, workers=8, project=None, name=yolov8_breast_cancer4, exist_ok=False, pretrained=True, optimizer=auto, verbose=True, seed=0, deterministic=True, single_cls=False, rect=False, cos_lr=False, close_mosaic=10, resume=False, amp=True, fraction=1.0, profile=False, freeze=None, multi_scale=False, overlap_mask=True, mask_ratio=4, dropout=0.0, val=True, split=val, save_json=False, save_hybrid=False, conf=None, iou=0.7, max_det=300, half=False, dnn=False, plots=True, source=None, vid_stride=1, stream_buffer=False, visualize=False, augment=False, agnostic_nms=False, classes=None, retina_masks=False, embed=None, show=False, save_frames=False, save_txt=False, save_conf=False, save_crop=False, show_labels=True, show_conf=True, show_boxes=True, line_width=None, format=torchscript, keras=False, optimize=False, int8=False, dynamic=False, simplify=False, opset=None, workspace=4, nms=False, lr0=0.01, lrf=0.01, momentum=0.937, weight_decay=0.0005, warmup_epochs=3.0, warmup_momentum=0.8, warmup_bias_lr=0.1, box=7.5, cls=0.5, dfl=1.5, pose=12.0, kobj=1.0, label_smoothing=0.0, nbs=64, hsv_h=0.015, hsv_s=0.7, hsv_v=0.4, degrees=0.0, translate=0.1, scale=0.5, shear=0.0, perspective=0.0, flipud=0.0, fliplr=0.5, bgr=0.0, mosaic=1.0, mixup=0.0, copy_paste=0.0, auto_augment=randaugment, erasing=0.4, crop_fraction=1.0, cfg=None, tracker=botsort.yaml, save_dir=runs\\detect\\yolov8_breast_cancer4\n",
      "Overriding model.yaml nc=80 with nc=3\n",
      "\n",
      "                   from  n    params  module                                       arguments                     \n",
      "  0                  -1  1       464  ultralytics.nn.modules.conv.Conv             [3, 16, 3, 2]                 \n",
      "  1                  -1  1      4672  ultralytics.nn.modules.conv.Conv             [16, 32, 3, 2]                \n",
      "  2                  -1  1      7360  ultralytics.nn.modules.block.C2f             [32, 32, 1, True]             \n",
      "  3                  -1  1     18560  ultralytics.nn.modules.conv.Conv             [32, 64, 3, 2]                \n",
      "  4                  -1  2     49664  ultralytics.nn.modules.block.C2f             [64, 64, 2, True]             \n",
      "  5                  -1  1     73984  ultralytics.nn.modules.conv.Conv             [64, 128, 3, 2]               \n",
      "  6                  -1  2    197632  ultralytics.nn.modules.block.C2f             [128, 128, 2, True]           \n",
      "  7                  -1  1    295424  ultralytics.nn.modules.conv.Conv             [128, 256, 3, 2]              \n",
      "  8                  -1  1    460288  ultralytics.nn.modules.block.C2f             [256, 256, 1, True]           \n",
      "  9                  -1  1    164608  ultralytics.nn.modules.block.SPPF            [256, 256, 5]                 \n",
      " 10                  -1  1         0  torch.nn.modules.upsampling.Upsample         [None, 2, 'nearest']          \n",
      " 11             [-1, 6]  1         0  ultralytics.nn.modules.conv.Concat           [1]                           \n",
      " 12                  -1  1    148224  ultralytics.nn.modules.block.C2f             [384, 128, 1]                 \n",
      " 13                  -1  1         0  torch.nn.modules.upsampling.Upsample         [None, 2, 'nearest']          \n",
      " 14             [-1, 4]  1         0  ultralytics.nn.modules.conv.Concat           [1]                           \n",
      " 15                  -1  1     37248  ultralytics.nn.modules.block.C2f             [192, 64, 1]                  \n",
      " 16                  -1  1     36992  ultralytics.nn.modules.conv.Conv             [64, 64, 3, 2]                \n",
      " 17            [-1, 12]  1         0  ultralytics.nn.modules.conv.Concat           [1]                           \n",
      " 18                  -1  1    123648  ultralytics.nn.modules.block.C2f             [192, 128, 1]                 \n",
      " 19                  -1  1    147712  ultralytics.nn.modules.conv.Conv             [128, 128, 3, 2]              \n",
      " 20             [-1, 9]  1         0  ultralytics.nn.modules.conv.Concat           [1]                           \n",
      " 21                  -1  1    493056  ultralytics.nn.modules.block.C2f             [384, 256, 1]                 \n",
      " 22        [15, 18, 21]  1    751897  ultralytics.nn.modules.head.Detect           [3, [64, 128, 256]]           \n",
      "Model summary: 225 layers, 3,011,433 parameters, 3,011,417 gradients, 8.2 GFLOPs\n",
      "\n",
      "Transferred 319/355 items from pretrained weights\n",
      "Freezing layer 'model.22.dfl.conv.weight'\n"
     ]
    },
    {
     "name": "stderr",
     "output_type": "stream",
     "text": [
      "\u001b[34m\u001b[1mtrain: \u001b[0mScanning C:\\Users\\Humaira Sadia\\Desktop\\College Lab\\DS_ML_DL\\Breast_Cancer\\model\\dataset\\train\\labels.cache... 2 \u001b[0m\n",
      "\u001b[34m\u001b[1mval: \u001b[0mScanning C:\\Users\\Humaira Sadia\\Desktop\\College Lab\\DS_ML_DL\\Breast_Cancer\\model\\dataset\\val\\labels.cache... 0 imag\u001b[0m"
     ]
    },
    {
     "name": "stdout",
     "output_type": "stream",
     "text": [
      "WARNING  No labels found in C:\\Users\\Humaira Sadia\\Desktop\\College Lab\\DS_ML_DL\\Breast_Cancer\\model\\dataset\\val\\labels.cache, training may not work correctly. See https://docs.ultralytics.com/datasets for dataset formatting guidance.\n",
      "Plotting labels to runs\\detect\\yolov8_breast_cancer4\\labels.jpg... \n"
     ]
    },
    {
     "name": "stderr",
     "output_type": "stream",
     "text": [
      "\n"
     ]
    },
    {
     "name": "stdout",
     "output_type": "stream",
     "text": [
      "\u001b[34m\u001b[1moptimizer:\u001b[0m 'optimizer=auto' found, ignoring 'lr0=0.01' and 'momentum=0.937' and determining best 'optimizer', 'lr0' and 'momentum' automatically... \n",
      "\u001b[34m\u001b[1moptimizer:\u001b[0m AdamW(lr=0.001429, momentum=0.9) with parameter groups 57 weight(decay=0.0), 64 weight(decay=0.0005), 63 bias(decay=0.0)\n",
      "Image sizes 640 train, 640 val\n",
      "Using 0 dataloader workers\n",
      "Logging results to \u001b[1mruns\\detect\\yolov8_breast_cancer4\u001b[0m\n",
      "Starting training for 1 epochs...\n",
      "\n",
      "      Epoch    GPU_mem   box_loss   cls_loss   dfl_loss  Instances       Size\n"
     ]
    },
    {
     "name": "stderr",
     "output_type": "stream",
     "text": [
      "  0%|          | 0/40 [00:04<?, ?it/s]\n"
     ]
    },
    {
     "ename": "KeyboardInterrupt",
     "evalue": "",
     "output_type": "error",
     "traceback": [
      "\u001b[1;31m---------------------------------------------------------------------------\u001b[0m",
      "\u001b[1;31mKeyboardInterrupt\u001b[0m                         Traceback (most recent call last)",
      "Cell \u001b[1;32mIn[20], line 7\u001b[0m\n\u001b[0;32m      4\u001b[0m \u001b[38;5;66;03m# Load the YOLOV8 model\u001b[39;00m\n\u001b[0;32m      5\u001b[0m model \u001b[38;5;241m=\u001b[39m YOLO(\u001b[38;5;124m'\u001b[39m\u001b[38;5;124myolov8n.pt\u001b[39m\u001b[38;5;124m'\u001b[39m) \n\u001b[1;32m----> 7\u001b[0m results \u001b[38;5;241m=\u001b[39m \u001b[43mmodel\u001b[49m\u001b[38;5;241;43m.\u001b[39;49m\u001b[43mtrain\u001b[49m\u001b[43m(\u001b[49m\n\u001b[0;32m      8\u001b[0m \u001b[43m    \u001b[49m\u001b[43mdata\u001b[49m\u001b[38;5;241;43m=\u001b[39;49m\u001b[38;5;124;43m'\u001b[39;49m\u001b[38;5;124;43mdataset.yaml\u001b[39;49m\u001b[38;5;124;43m'\u001b[39;49m\u001b[43m,\u001b[49m\u001b[43m  \u001b[49m\n\u001b[0;32m      9\u001b[0m \u001b[43m    \u001b[49m\u001b[43mepochs\u001b[49m\u001b[38;5;241;43m=\u001b[39;49m\u001b[38;5;241;43m1\u001b[39;49m\u001b[43m,\u001b[49m\u001b[43m  \u001b[49m\n\u001b[0;32m     10\u001b[0m \u001b[43m    \u001b[49m\u001b[43mimgsz\u001b[49m\u001b[38;5;241;43m=\u001b[39;49m\u001b[38;5;241;43m640\u001b[39;49m\u001b[43m,\u001b[49m\n\u001b[0;32m     11\u001b[0m \u001b[43m    \u001b[49m\u001b[43mbatch\u001b[49m\u001b[38;5;241;43m=\u001b[39;49m\u001b[38;5;241;43m16\u001b[39;49m\u001b[43m,\u001b[49m\n\u001b[0;32m     12\u001b[0m \u001b[43m    \u001b[49m\u001b[43mname\u001b[49m\u001b[38;5;241;43m=\u001b[39;49m\u001b[38;5;124;43m'\u001b[39;49m\u001b[38;5;124;43myolov8_breast_cancer\u001b[39;49m\u001b[38;5;124;43m'\u001b[39;49m\u001b[43m \u001b[49m\n\u001b[0;32m     13\u001b[0m \u001b[43m)\u001b[49m\n",
      "File \u001b[1;32m~\\AppData\\Roaming\\Python\\Python312\\site-packages\\ultralytics\\engine\\model.py:803\u001b[0m, in \u001b[0;36mModel.train\u001b[1;34m(self, trainer, **kwargs)\u001b[0m\n\u001b[0;32m    800\u001b[0m     \u001b[38;5;28mself\u001b[39m\u001b[38;5;241m.\u001b[39mmodel \u001b[38;5;241m=\u001b[39m \u001b[38;5;28mself\u001b[39m\u001b[38;5;241m.\u001b[39mtrainer\u001b[38;5;241m.\u001b[39mmodel\n\u001b[0;32m    802\u001b[0m \u001b[38;5;28mself\u001b[39m\u001b[38;5;241m.\u001b[39mtrainer\u001b[38;5;241m.\u001b[39mhub_session \u001b[38;5;241m=\u001b[39m \u001b[38;5;28mself\u001b[39m\u001b[38;5;241m.\u001b[39msession  \u001b[38;5;66;03m# attach optional HUB session\u001b[39;00m\n\u001b[1;32m--> 803\u001b[0m \u001b[38;5;28;43mself\u001b[39;49m\u001b[38;5;241;43m.\u001b[39;49m\u001b[43mtrainer\u001b[49m\u001b[38;5;241;43m.\u001b[39;49m\u001b[43mtrain\u001b[49m\u001b[43m(\u001b[49m\u001b[43m)\u001b[49m\n\u001b[0;32m    804\u001b[0m \u001b[38;5;66;03m# Update model and cfg after training\u001b[39;00m\n\u001b[0;32m    805\u001b[0m \u001b[38;5;28;01mif\u001b[39;00m RANK \u001b[38;5;129;01min\u001b[39;00m {\u001b[38;5;241m-\u001b[39m\u001b[38;5;241m1\u001b[39m, \u001b[38;5;241m0\u001b[39m}:\n",
      "File \u001b[1;32m~\\AppData\\Roaming\\Python\\Python312\\site-packages\\ultralytics\\engine\\trainer.py:207\u001b[0m, in \u001b[0;36mBaseTrainer.train\u001b[1;34m(self)\u001b[0m\n\u001b[0;32m    204\u001b[0m         ddp_cleanup(\u001b[38;5;28mself\u001b[39m, \u001b[38;5;28mstr\u001b[39m(file))\n\u001b[0;32m    206\u001b[0m \u001b[38;5;28;01melse\u001b[39;00m:\n\u001b[1;32m--> 207\u001b[0m     \u001b[38;5;28;43mself\u001b[39;49m\u001b[38;5;241;43m.\u001b[39;49m\u001b[43m_do_train\u001b[49m\u001b[43m(\u001b[49m\u001b[43mworld_size\u001b[49m\u001b[43m)\u001b[49m\n",
      "File \u001b[1;32m~\\AppData\\Roaming\\Python\\Python312\\site-packages\\ultralytics\\engine\\trainer.py:385\u001b[0m, in \u001b[0;36mBaseTrainer._do_train\u001b[1;34m(self, world_size)\u001b[0m\n\u001b[0;32m    383\u001b[0m \u001b[38;5;28;01mwith\u001b[39;00m autocast(\u001b[38;5;28mself\u001b[39m\u001b[38;5;241m.\u001b[39mamp):\n\u001b[0;32m    384\u001b[0m     batch \u001b[38;5;241m=\u001b[39m \u001b[38;5;28mself\u001b[39m\u001b[38;5;241m.\u001b[39mpreprocess_batch(batch)\n\u001b[1;32m--> 385\u001b[0m     \u001b[38;5;28mself\u001b[39m\u001b[38;5;241m.\u001b[39mloss, \u001b[38;5;28mself\u001b[39m\u001b[38;5;241m.\u001b[39mloss_items \u001b[38;5;241m=\u001b[39m \u001b[38;5;28;43mself\u001b[39;49m\u001b[38;5;241;43m.\u001b[39;49m\u001b[43mmodel\u001b[49m\u001b[43m(\u001b[49m\u001b[43mbatch\u001b[49m\u001b[43m)\u001b[49m\n\u001b[0;32m    386\u001b[0m     \u001b[38;5;28;01mif\u001b[39;00m RANK \u001b[38;5;241m!=\u001b[39m \u001b[38;5;241m-\u001b[39m\u001b[38;5;241m1\u001b[39m:\n\u001b[0;32m    387\u001b[0m         \u001b[38;5;28mself\u001b[39m\u001b[38;5;241m.\u001b[39mloss \u001b[38;5;241m*\u001b[39m\u001b[38;5;241m=\u001b[39m world_size\n",
      "File \u001b[1;32m~\\AppData\\Roaming\\Python\\Python312\\site-packages\\torch\\nn\\modules\\module.py:1553\u001b[0m, in \u001b[0;36mModule._wrapped_call_impl\u001b[1;34m(self, *args, **kwargs)\u001b[0m\n\u001b[0;32m   1551\u001b[0m     \u001b[38;5;28;01mreturn\u001b[39;00m \u001b[38;5;28mself\u001b[39m\u001b[38;5;241m.\u001b[39m_compiled_call_impl(\u001b[38;5;241m*\u001b[39margs, \u001b[38;5;241m*\u001b[39m\u001b[38;5;241m*\u001b[39mkwargs)  \u001b[38;5;66;03m# type: ignore[misc]\u001b[39;00m\n\u001b[0;32m   1552\u001b[0m \u001b[38;5;28;01melse\u001b[39;00m:\n\u001b[1;32m-> 1553\u001b[0m     \u001b[38;5;28;01mreturn\u001b[39;00m \u001b[38;5;28;43mself\u001b[39;49m\u001b[38;5;241;43m.\u001b[39;49m\u001b[43m_call_impl\u001b[49m\u001b[43m(\u001b[49m\u001b[38;5;241;43m*\u001b[39;49m\u001b[43margs\u001b[49m\u001b[43m,\u001b[49m\u001b[43m \u001b[49m\u001b[38;5;241;43m*\u001b[39;49m\u001b[38;5;241;43m*\u001b[39;49m\u001b[43mkwargs\u001b[49m\u001b[43m)\u001b[49m\n",
      "File \u001b[1;32m~\\AppData\\Roaming\\Python\\Python312\\site-packages\\torch\\nn\\modules\\module.py:1562\u001b[0m, in \u001b[0;36mModule._call_impl\u001b[1;34m(self, *args, **kwargs)\u001b[0m\n\u001b[0;32m   1557\u001b[0m \u001b[38;5;66;03m# If we don't have any hooks, we want to skip the rest of the logic in\u001b[39;00m\n\u001b[0;32m   1558\u001b[0m \u001b[38;5;66;03m# this function, and just call forward.\u001b[39;00m\n\u001b[0;32m   1559\u001b[0m \u001b[38;5;28;01mif\u001b[39;00m \u001b[38;5;129;01mnot\u001b[39;00m (\u001b[38;5;28mself\u001b[39m\u001b[38;5;241m.\u001b[39m_backward_hooks \u001b[38;5;129;01mor\u001b[39;00m \u001b[38;5;28mself\u001b[39m\u001b[38;5;241m.\u001b[39m_backward_pre_hooks \u001b[38;5;129;01mor\u001b[39;00m \u001b[38;5;28mself\u001b[39m\u001b[38;5;241m.\u001b[39m_forward_hooks \u001b[38;5;129;01mor\u001b[39;00m \u001b[38;5;28mself\u001b[39m\u001b[38;5;241m.\u001b[39m_forward_pre_hooks\n\u001b[0;32m   1560\u001b[0m         \u001b[38;5;129;01mor\u001b[39;00m _global_backward_pre_hooks \u001b[38;5;129;01mor\u001b[39;00m _global_backward_hooks\n\u001b[0;32m   1561\u001b[0m         \u001b[38;5;129;01mor\u001b[39;00m _global_forward_hooks \u001b[38;5;129;01mor\u001b[39;00m _global_forward_pre_hooks):\n\u001b[1;32m-> 1562\u001b[0m     \u001b[38;5;28;01mreturn\u001b[39;00m \u001b[43mforward_call\u001b[49m\u001b[43m(\u001b[49m\u001b[38;5;241;43m*\u001b[39;49m\u001b[43margs\u001b[49m\u001b[43m,\u001b[49m\u001b[43m \u001b[49m\u001b[38;5;241;43m*\u001b[39;49m\u001b[38;5;241;43m*\u001b[39;49m\u001b[43mkwargs\u001b[49m\u001b[43m)\u001b[49m\n\u001b[0;32m   1564\u001b[0m \u001b[38;5;28;01mtry\u001b[39;00m:\n\u001b[0;32m   1565\u001b[0m     result \u001b[38;5;241m=\u001b[39m \u001b[38;5;28;01mNone\u001b[39;00m\n",
      "File \u001b[1;32m~\\AppData\\Roaming\\Python\\Python312\\site-packages\\ultralytics\\nn\\tasks.py:107\u001b[0m, in \u001b[0;36mBaseModel.forward\u001b[1;34m(self, x, *args, **kwargs)\u001b[0m\n\u001b[0;32m     93\u001b[0m \u001b[38;5;250m\u001b[39m\u001b[38;5;124;03m\"\"\"\u001b[39;00m\n\u001b[0;32m     94\u001b[0m \u001b[38;5;124;03mPerform forward pass of the model for either training or inference.\u001b[39;00m\n\u001b[0;32m     95\u001b[0m \n\u001b[1;32m   (...)\u001b[0m\n\u001b[0;32m    104\u001b[0m \u001b[38;5;124;03m    (torch.Tensor): Loss if x is a dict (training), or network predictions (inference).\u001b[39;00m\n\u001b[0;32m    105\u001b[0m \u001b[38;5;124;03m\"\"\"\u001b[39;00m\n\u001b[0;32m    106\u001b[0m \u001b[38;5;28;01mif\u001b[39;00m \u001b[38;5;28misinstance\u001b[39m(x, \u001b[38;5;28mdict\u001b[39m):  \u001b[38;5;66;03m# for cases of training and validating while training.\u001b[39;00m\n\u001b[1;32m--> 107\u001b[0m     \u001b[38;5;28;01mreturn\u001b[39;00m \u001b[38;5;28;43mself\u001b[39;49m\u001b[38;5;241;43m.\u001b[39;49m\u001b[43mloss\u001b[49m\u001b[43m(\u001b[49m\u001b[43mx\u001b[49m\u001b[43m,\u001b[49m\u001b[43m \u001b[49m\u001b[38;5;241;43m*\u001b[39;49m\u001b[43margs\u001b[49m\u001b[43m,\u001b[49m\u001b[43m \u001b[49m\u001b[38;5;241;43m*\u001b[39;49m\u001b[38;5;241;43m*\u001b[39;49m\u001b[43mkwargs\u001b[49m\u001b[43m)\u001b[49m\n\u001b[0;32m    108\u001b[0m \u001b[38;5;28;01mreturn\u001b[39;00m \u001b[38;5;28mself\u001b[39m\u001b[38;5;241m.\u001b[39mpredict(x, \u001b[38;5;241m*\u001b[39margs, \u001b[38;5;241m*\u001b[39m\u001b[38;5;241m*\u001b[39mkwargs)\n",
      "File \u001b[1;32m~\\AppData\\Roaming\\Python\\Python312\\site-packages\\ultralytics\\nn\\tasks.py:289\u001b[0m, in \u001b[0;36mBaseModel.loss\u001b[1;34m(self, batch, preds)\u001b[0m\n\u001b[0;32m    286\u001b[0m     \u001b[38;5;28mself\u001b[39m\u001b[38;5;241m.\u001b[39mcriterion \u001b[38;5;241m=\u001b[39m \u001b[38;5;28mself\u001b[39m\u001b[38;5;241m.\u001b[39minit_criterion()\n\u001b[0;32m    288\u001b[0m preds \u001b[38;5;241m=\u001b[39m \u001b[38;5;28mself\u001b[39m\u001b[38;5;241m.\u001b[39mforward(batch[\u001b[38;5;124m\"\u001b[39m\u001b[38;5;124mimg\u001b[39m\u001b[38;5;124m\"\u001b[39m]) \u001b[38;5;28;01mif\u001b[39;00m preds \u001b[38;5;129;01mis\u001b[39;00m \u001b[38;5;28;01mNone\u001b[39;00m \u001b[38;5;28;01melse\u001b[39;00m preds\n\u001b[1;32m--> 289\u001b[0m \u001b[38;5;28;01mreturn\u001b[39;00m \u001b[38;5;28;43mself\u001b[39;49m\u001b[38;5;241;43m.\u001b[39;49m\u001b[43mcriterion\u001b[49m\u001b[43m(\u001b[49m\u001b[43mpreds\u001b[49m\u001b[43m,\u001b[49m\u001b[43m \u001b[49m\u001b[43mbatch\u001b[49m\u001b[43m)\u001b[49m\n",
      "File \u001b[1;32m~\\AppData\\Roaming\\Python\\Python312\\site-packages\\ultralytics\\utils\\loss.py:211\u001b[0m, in \u001b[0;36mv8DetectionLoss.__call__\u001b[1;34m(self, preds, batch)\u001b[0m\n\u001b[0;32m    209\u001b[0m loss \u001b[38;5;241m=\u001b[39m torch\u001b[38;5;241m.\u001b[39mzeros(\u001b[38;5;241m3\u001b[39m, device\u001b[38;5;241m=\u001b[39m\u001b[38;5;28mself\u001b[39m\u001b[38;5;241m.\u001b[39mdevice)  \u001b[38;5;66;03m# box, cls, dfl\u001b[39;00m\n\u001b[0;32m    210\u001b[0m feats \u001b[38;5;241m=\u001b[39m preds[\u001b[38;5;241m1\u001b[39m] \u001b[38;5;28;01mif\u001b[39;00m \u001b[38;5;28misinstance\u001b[39m(preds, \u001b[38;5;28mtuple\u001b[39m) \u001b[38;5;28;01melse\u001b[39;00m preds\n\u001b[1;32m--> 211\u001b[0m pred_distri, pred_scores \u001b[38;5;241m=\u001b[39m \u001b[43mtorch\u001b[49m\u001b[38;5;241;43m.\u001b[39;49m\u001b[43mcat\u001b[49m\u001b[43m(\u001b[49m\u001b[43m[\u001b[49m\u001b[43mxi\u001b[49m\u001b[38;5;241;43m.\u001b[39;49m\u001b[43mview\u001b[49m\u001b[43m(\u001b[49m\u001b[43mfeats\u001b[49m\u001b[43m[\u001b[49m\u001b[38;5;241;43m0\u001b[39;49m\u001b[43m]\u001b[49m\u001b[38;5;241;43m.\u001b[39;49m\u001b[43mshape\u001b[49m\u001b[43m[\u001b[49m\u001b[38;5;241;43m0\u001b[39;49m\u001b[43m]\u001b[49m\u001b[43m,\u001b[49m\u001b[43m \u001b[49m\u001b[38;5;28;43mself\u001b[39;49m\u001b[38;5;241;43m.\u001b[39;49m\u001b[43mno\u001b[49m\u001b[43m,\u001b[49m\u001b[43m \u001b[49m\u001b[38;5;241;43m-\u001b[39;49m\u001b[38;5;241;43m1\u001b[39;49m\u001b[43m)\u001b[49m\u001b[43m \u001b[49m\u001b[38;5;28;43;01mfor\u001b[39;49;00m\u001b[43m \u001b[49m\u001b[43mxi\u001b[49m\u001b[43m \u001b[49m\u001b[38;5;129;43;01min\u001b[39;49;00m\u001b[43m \u001b[49m\u001b[43mfeats\u001b[49m\u001b[43m]\u001b[49m\u001b[43m,\u001b[49m\u001b[43m \u001b[49m\u001b[38;5;241;43m2\u001b[39;49m\u001b[43m)\u001b[49m\u001b[38;5;241m.\u001b[39msplit(\n\u001b[0;32m    212\u001b[0m     (\u001b[38;5;28mself\u001b[39m\u001b[38;5;241m.\u001b[39mreg_max \u001b[38;5;241m*\u001b[39m \u001b[38;5;241m4\u001b[39m, \u001b[38;5;28mself\u001b[39m\u001b[38;5;241m.\u001b[39mnc), \u001b[38;5;241m1\u001b[39m\n\u001b[0;32m    213\u001b[0m )\n\u001b[0;32m    215\u001b[0m pred_scores \u001b[38;5;241m=\u001b[39m pred_scores\u001b[38;5;241m.\u001b[39mpermute(\u001b[38;5;241m0\u001b[39m, \u001b[38;5;241m2\u001b[39m, \u001b[38;5;241m1\u001b[39m)\u001b[38;5;241m.\u001b[39mcontiguous()\n\u001b[0;32m    216\u001b[0m pred_distri \u001b[38;5;241m=\u001b[39m pred_distri\u001b[38;5;241m.\u001b[39mpermute(\u001b[38;5;241m0\u001b[39m, \u001b[38;5;241m2\u001b[39m, \u001b[38;5;241m1\u001b[39m)\u001b[38;5;241m.\u001b[39mcontiguous()\n",
      "\u001b[1;31mKeyboardInterrupt\u001b[0m: "
     ]
    }
   ],
   "source": [
    "from ultralytics import YOLO\n",
    "from IPython.display import display\n",
    "\n",
    "# Load the YOLOV8 model\n",
    "model = YOLO('yolov8n.pt') \n",
    "\n",
    "results = model.train(\n",
    "    data='dataset.yaml',  \n",
    "    epochs=1,  \n",
    "    imgsz=640,\n",
    "    batch=16,\n",
    "    name='yolov8_breast_cancer' \n",
    ")"
   ]
  },
  {
   "cell_type": "markdown",
   "id": "a39f8a6c-cb8e-4434-9843-b2fae71300fd",
   "metadata": {},
   "source": [
    "<h1 style=\"color: PaleGoldenRod; font-size:40px;\">VALIDATION OF MODEL</h1>"
   ]
  },
  {
   "cell_type": "code",
   "execution_count": 10,
   "id": "3cf0aac2-22a7-4045-b2fa-081302a37916",
   "metadata": {},
   "outputs": [
    {
     "name": "stdout",
     "output_type": "stream",
     "text": [
      "Ultralytics YOLOv8.2.99  Python-3.12.1 torch-2.4.1+cpu CPU (12th Gen Intel Core(TM) i5-12500H)\n",
      "Model summary (fused): 168 layers, 3,006,233 parameters, 0 gradients, 8.1 GFLOPs\n"
     ]
    },
    {
     "name": "stderr",
     "output_type": "stream",
     "text": [
      "\u001b[34m\u001b[1mval: \u001b[0mScanning C:\\Users\\Humaira Sadia\\Desktop\\College Lab\\DS_ML_DL\\Breast_Cancer\\model\\dataset\\val\\labels.cache... 0 imag\u001b[0m"
     ]
    },
    {
     "name": "stdout",
     "output_type": "stream",
     "text": [
      "WARNING  No labels found in C:\\Users\\Humaira Sadia\\Desktop\\College Lab\\DS_ML_DL\\Breast_Cancer\\model\\dataset\\val\\labels.cache, training may not work correctly. See https://docs.ultralytics.com/datasets for dataset formatting guidance.\n"
     ]
    },
    {
     "name": "stderr",
     "output_type": "stream",
     "text": [
      "\n",
      "                 Class     Images  Instances      Box(P          R      mAP50  mAP50-95): 100%|██████████| 2/2 [00:03<00"
     ]
    },
    {
     "name": "stdout",
     "output_type": "stream",
     "text": [
      "                   all         20          0          0          0          0          0\n",
      "WARNING  no labels found in detect set, can not compute metrics without labels\n"
     ]
    },
    {
     "name": "stderr",
     "output_type": "stream",
     "text": [
      "\n"
     ]
    },
    {
     "name": "stdout",
     "output_type": "stream",
     "text": [
      "Speed: 3.6ms preprocess, 125.4ms inference, 0.0ms loss, 11.5ms postprocess per image\n",
      "Results saved to \u001b[1mruns\\detect\\yolov8_breast_cancer2\u001b[0m\n"
     ]
    }
   ],
   "source": [
    "results = model.val()"
   ]
  },
  {
   "cell_type": "markdown",
   "id": "4e37d231-bc56-4ba2-9097-1c303de3948f",
   "metadata": {},
   "source": [
    "<h1 style=\"color: PaleGoldenRod; font-size:40px;\">PERFORM OBJECT DETECTION</h1>"
   ]
  },
  {
   "cell_type": "code",
   "execution_count": 14,
   "id": "57746e43-8d22-41ef-9033-279aab800009",
   "metadata": {
    "scrolled": true
   },
   "outputs": [
    {
     "name": "stdout",
     "output_type": "stream",
     "text": [
      "\n",
      "image 1/1 C:\\Users\\Humaira Sadia\\Desktop\\BUSI\\model\\dataset\\test\\images\\benign (1).png: 544x640 (no detections), 237.6ms\n",
      "Speed: 8.7ms preprocess, 237.6ms inference, 1.0ms postprocess per image at shape (1, 3, 544, 640)\n"
     ]
    }
   ],
   "source": [
    "results = model(\"dataset/test/images/benign (1).png\") "
   ]
  }
 ],
 "metadata": {
  "kernelspec": {
   "display_name": "Python 3 (ipykernel)",
   "language": "python",
   "name": "python3"
  },
  "language_info": {
   "codemirror_mode": {
    "name": "ipython",
    "version": 3
   },
   "file_extension": ".py",
   "mimetype": "text/x-python",
   "name": "python",
   "nbconvert_exporter": "python",
   "pygments_lexer": "ipython3",
   "version": "3.12.1"
  }
 },
 "nbformat": 4,
 "nbformat_minor": 5
}
